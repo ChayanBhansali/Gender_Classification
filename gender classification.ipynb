{
 "cells": [
  {
   "cell_type": "code",
   "execution_count": 32,
   "id": "db09ebf1",
   "metadata": {},
   "outputs": [],
   "source": [
    "import tensorflow as tf\n",
    "from tensorflow.keras.layers import Input, Conv2D, MaxPooling2D, Flatten, Dense, Dropout,ZeroPadding2D\n",
    "from tensorflow.keras.models import Model\n",
    "import os\n",
    "from tensorflow.keras.callbacks import EarlyStopping\n"
   ]
  },
  {
   "cell_type": "code",
   "execution_count": 3,
   "id": "bc15fc06",
   "metadata": {},
   "outputs": [],
   "source": [
    "path = '/Users/lakhanbhansali/Documents/Untitled Folder 2/archive (2)'"
   ]
  },
  {
   "cell_type": "code",
   "execution_count": 6,
   "id": "0bb55d6c",
   "metadata": {},
   "outputs": [],
   "source": [
    "training_set = os.path.join(path, 'Training')\n",
    "validation_set = os.path.join(path, 'Validation')"
   ]
  },
  {
   "cell_type": "code",
   "execution_count": 11,
   "id": "f3124df3",
   "metadata": {},
   "outputs": [],
   "source": [
    "data_generator = tf.keras.preprocessing.image.ImageDataGenerator(\n",
    "    rescale=1.0/255.0,  \n",
    "    horizontal_flip=True,\n",
    "    rotation_range=20,\n",
    "    zoom_range=0.1,\n",
    ")"
   ]
  },
  {
   "cell_type": "code",
   "execution_count": 12,
   "id": "0020e26a",
   "metadata": {},
   "outputs": [
    {
     "name": "stdout",
     "output_type": "stream",
     "text": [
      "Found 47009 images belonging to 2 classes.\n"
     ]
    }
   ],
   "source": [
    "train_data = data_generator.flow_from_directory(\n",
    "    training_set,\n",
    "    target_size=(64, 64),  \n",
    "    batch_size=32,\n",
    "    class_mode='categorical', \n",
    ")"
   ]
  },
  {
   "cell_type": "code",
   "execution_count": 13,
   "id": "9cdf77cd",
   "metadata": {},
   "outputs": [
    {
     "name": "stdout",
     "output_type": "stream",
     "text": [
      "Found 11649 images belonging to 2 classes.\n"
     ]
    }
   ],
   "source": [
    "validation_data = data_generator.flow_from_directory(\n",
    "    validation_set,\n",
    "    target_size=(64, 64),\n",
    "    batch_size=32,\n",
    "    class_mode='categorical',\n",
    ")"
   ]
  },
  {
   "cell_type": "code",
   "execution_count": 28,
   "id": "30128f9b",
   "metadata": {},
   "outputs": [],
   "source": [
    "def classification_model():\n",
    "    input_layer = Input(shape=(64, 64, 3)) \n",
    "    padding_layer = ZeroPadding2D(padding=(1, 1))(input_layer)\n",
    "    conv1 = Conv2D(64, (3, 3), activation='relu')(padding_layer)\n",
    "    maxpool1 = MaxPooling2D((2, 2))(conv1)\n",
    "    padding_layer_2 = ZeroPadding2D(padding=(1, 1))(maxpool1)\n",
    "    conv2 = Conv2D(128, (3, 3), activation='relu')(padding_layer_2)\n",
    "    maxpool2 = MaxPooling2D((2, 2))(conv2)\n",
    "    flatten = Flatten()(maxpool2)\n",
    "    dropout1 = Dropout(0.50)(flatten)\n",
    "    dense1 = Dense(64, activation='relu')(dropout1)\n",
    "    dropout2 = Dropout(0.50)(dense1)\n",
    "    output_layer = Dense(2, activation='softmax')(dropout2) \n",
    "    model = Model(inputs=input_layer, outputs=output_layer)\n",
    "    return model\n",
    "\n",
    "model = classification_model()\n"
   ]
  },
  {
   "cell_type": "code",
   "execution_count": 29,
   "id": "5f6f0b0c",
   "metadata": {},
   "outputs": [
    {
     "name": "stdout",
     "output_type": "stream",
     "text": [
      "Model: \"model_6\"\n",
      "_________________________________________________________________\n",
      " Layer (type)                Output Shape              Param #   \n",
      "=================================================================\n",
      " input_8 (InputLayer)        [(None, 64, 64, 3)]       0         \n",
      "                                                                 \n",
      " zero_padding2d_5 (ZeroPadd  (None, 66, 66, 3)         0         \n",
      " ing2D)                                                          \n",
      "                                                                 \n",
      " conv2d_12 (Conv2D)          (None, 64, 64, 64)        1792      \n",
      "                                                                 \n",
      " max_pooling2d_12 (MaxPooli  (None, 32, 32, 64)        0         \n",
      " ng2D)                                                           \n",
      "                                                                 \n",
      " zero_padding2d_6 (ZeroPadd  (None, 34, 34, 64)        0         \n",
      " ing2D)                                                          \n",
      "                                                                 \n",
      " conv2d_13 (Conv2D)          (None, 32, 32, 128)       73856     \n",
      "                                                                 \n",
      " max_pooling2d_13 (MaxPooli  (None, 16, 16, 128)       0         \n",
      " ng2D)                                                           \n",
      "                                                                 \n",
      " flatten_6 (Flatten)         (None, 32768)             0         \n",
      "                                                                 \n",
      " dropout_12 (Dropout)        (None, 32768)             0         \n",
      "                                                                 \n",
      " dense_12 (Dense)            (None, 64)                2097216   \n",
      "                                                                 \n",
      " dropout_13 (Dropout)        (None, 64)                0         \n",
      "                                                                 \n",
      " dense_13 (Dense)            (None, 2)                 130       \n",
      "                                                                 \n",
      "=================================================================\n",
      "Total params: 2172994 (8.29 MB)\n",
      "Trainable params: 2172994 (8.29 MB)\n",
      "Non-trainable params: 0 (0.00 Byte)\n",
      "_________________________________________________________________\n"
     ]
    }
   ],
   "source": [
    "model.compile(optimizer='adam', loss='categorical_crossentropy', metrics=['accuracy'])\n",
    "\n",
    "model.summary()"
   ]
  },
  {
   "cell_type": "code",
   "execution_count": 33,
   "id": "950b29b2",
   "metadata": {},
   "outputs": [
    {
     "name": "stdout",
     "output_type": "stream",
     "text": [
      "Epoch 1/10\n",
      "1470/1470 [==============================] - 219s 149ms/step - loss: 0.2023 - accuracy: 0.9233 - val_loss: 0.1447 - val_accuracy: 0.9451\n",
      "Epoch 2/10\n",
      "1470/1470 [==============================] - 221s 150ms/step - loss: 0.1940 - accuracy: 0.9282 - val_loss: 0.1577 - val_accuracy: 0.9442\n",
      "Epoch 3/10\n",
      "1470/1470 [==============================] - 247s 168ms/step - loss: 0.1867 - accuracy: 0.9307 - val_loss: 0.1356 - val_accuracy: 0.9523\n",
      "Epoch 4/10\n",
      "1470/1470 [==============================] - 258s 175ms/step - loss: 0.1824 - accuracy: 0.9323 - val_loss: 0.1309 - val_accuracy: 0.9524\n",
      "Epoch 5/10\n",
      "1470/1470 [==============================] - 254s 172ms/step - loss: 0.1775 - accuracy: 0.9360 - val_loss: 0.1245 - val_accuracy: 0.9537\n",
      "Epoch 6/10\n",
      "1470/1470 [==============================] - 246s 167ms/step - loss: 0.1738 - accuracy: 0.9367 - val_loss: 0.1284 - val_accuracy: 0.9547\n",
      "Epoch 7/10\n",
      "1470/1470 [==============================] - 218s 149ms/step - loss: 0.1802 - accuracy: 0.9333 - val_loss: 0.1208 - val_accuracy: 0.9550\n",
      "Epoch 8/10\n",
      "1470/1470 [==============================] - 207s 141ms/step - loss: 0.1660 - accuracy: 0.9394 - val_loss: 0.1213 - val_accuracy: 0.9572\n",
      "Epoch 9/10\n",
      "1470/1470 [==============================] - 219s 149ms/step - loss: 0.1626 - accuracy: 0.9412 - val_loss: 0.1199 - val_accuracy: 0.9562\n",
      "Epoch 10/10\n",
      "1470/1470 [==============================] - 367s 250ms/step - loss: 0.1599 - accuracy: 0.9429 - val_loss: 0.1075 - val_accuracy: 0.9627\n"
     ]
    },
    {
     "data": {
      "text/plain": [
       "<keras.src.callbacks.History at 0x17f285250>"
      ]
     },
     "execution_count": 33,
     "metadata": {},
     "output_type": "execute_result"
    }
   ],
   "source": [
    "early_stopping = EarlyStopping(monitor='val_loss', patience=3, restore_best_weights=True)\n",
    "model.fit(train_data, epochs=10, validation_data=validation_data ,  callbacks=[early_stopping])\n"
   ]
  },
  {
   "cell_type": "code",
   "execution_count": null,
   "id": "36c9ea1b",
   "metadata": {},
   "outputs": [],
   "source": []
  }
 ],
 "metadata": {
  "kernelspec": {
   "display_name": "Python 3 (ipykernel)",
   "language": "python",
   "name": "python3"
  },
  "language_info": {
   "codemirror_mode": {
    "name": "ipython",
    "version": 3
   },
   "file_extension": ".py",
   "mimetype": "text/x-python",
   "name": "python",
   "nbconvert_exporter": "python",
   "pygments_lexer": "ipython3",
   "version": "3.11.3"
  }
 },
 "nbformat": 4,
 "nbformat_minor": 5
}
